{
 "cells": [
  {
   "cell_type": "code",
   "execution_count": 7,
   "metadata": {},
   "outputs": [
    {
     "name": "stdout",
     "output_type": "stream",
     "text": [
      "14549\n",
      "https://moviesjoytv.to/tv/0%E5%8F%B7%E5%AE%BF%E8%88%8D-21769\n"
     ]
    }
   ],
   "source": [
    "import json\n",
    "import time\n",
    "from tqdm import tqdm\n",
    "from selenium import webdriver\n",
    "from selenium.webdriver.support.ui import WebDriverWait\n",
    "from selenium.webdriver.support import expected_conditions as EC\n",
    "from selenium.webdriver.common.by import By\n",
    "\n",
    "movie_links = []\n",
    "with open('tv_show_list_of_links.json', 'r', encoding='utf-8') as f:\n",
    "  movie_links = json.load(f)\n",
    "\n",
    "start_index = \"\"\n",
    "for index, link in enumerate(movie_links):\n",
    "  if link == 'https://moviesjoytv.to/tv/0%E5%8F%B7%E5%AE%BF%E8%88%8D-21769':\n",
    "    start_index = index\n",
    "    print(start_index)\n",
    "    print(movie_links[start_index])\n",
    "    break"
   ]
  },
  {
   "cell_type": "code",
   "execution_count": 8,
   "metadata": {},
   "outputs": [
    {
     "name": "stderr",
     "output_type": "stream",
     "text": [
      " 11%|█         | 40/374 [03:34<35:22,  6.35s/it]"
     ]
    },
    {
     "name": "stdout",
     "output_type": "stream",
     "text": [
      "Message: no such element: Unable to locate element: {\"method\":\"xpath\",\"selector\":\"//div[@class=\"slt-seasons-dropdown\"]\"}\n",
      "  (Session info: chrome=132.0.6834.197); For documentation on this error, please visit: https://www.selenium.dev/documentation/webdriver/troubleshooting/errors#no-such-element-exception\n",
      "Stacktrace:\n",
      "\tGetHandleVerifier [0x00007FF7CD4402F5+28725]\n",
      "\t(No symbol) [0x00007FF7CD3A2AE0]\n",
      "\t(No symbol) [0x00007FF7CD23510A]\n",
      "\t(No symbol) [0x00007FF7CD2893D2]\n",
      "\t(No symbol) [0x00007FF7CD2895FC]\n",
      "\t(No symbol) [0x00007FF7CD27C0BC]\n",
      "\t(No symbol) [0x00007FF7CD2AFFEF]\n",
      "\t(No symbol) [0x00007FF7CD27BF86]\n",
      "\t(No symbol) [0x00007FF7CD2B01C0]\n",
      "\t(No symbol) [0x00007FF7CD2D0181]\n",
      "\t(No symbol) [0x00007FF7CD2AFD53]\n",
      "\t(No symbol) [0x00007FF7CD27A0E3]\n",
      "\t(No symbol) [0x00007FF7CD27B471]\n",
      "\tGetHandleVerifier [0x00007FF7CD76F30D+3366989]\n",
      "\tGetHandleVerifier [0x00007FF7CD7812F0+3440688]\n",
      "\tGetHandleVerifier [0x00007FF7CD7778FD+3401277]\n",
      "\tGetHandleVerifier [0x00007FF7CD50AAAB+858091]\n",
      "\t(No symbol) [0x00007FF7CD3AE74F]\n",
      "\t(No symbol) [0x00007FF7CD3AA304]\n",
      "\t(No symbol) [0x00007FF7CD3AA49D]\n",
      "\t(No symbol) [0x00007FF7CD398B69]\n",
      "\tBaseThreadInitThunk [0x00007FFA33C4E8D7+23]\n",
      "\tRtlUserThreadStart [0x00007FFA34FBFBCC+44]\n",
      "\n"
     ]
    },
    {
     "name": "stderr",
     "output_type": "stream",
     "text": [
      " 69%|██████▉   | 259/374 [24:09<10:17,  5.37s/it]"
     ]
    },
    {
     "name": "stdout",
     "output_type": "stream",
     "text": [
      "Message: no such element: Unable to locate element: {\"method\":\"xpath\",\"selector\":\"//div[@class=\"slt-seasons-dropdown\"]\"}\n",
      "  (Session info: chrome=132.0.6834.197); For documentation on this error, please visit: https://www.selenium.dev/documentation/webdriver/troubleshooting/errors#no-such-element-exception\n",
      "Stacktrace:\n",
      "\tGetHandleVerifier [0x00007FF7CD4402F5+28725]\n",
      "\t(No symbol) [0x00007FF7CD3A2AE0]\n",
      "\t(No symbol) [0x00007FF7CD23510A]\n",
      "\t(No symbol) [0x00007FF7CD2893D2]\n",
      "\t(No symbol) [0x00007FF7CD2895FC]\n",
      "\t(No symbol) [0x00007FF7CD27C0BC]\n",
      "\t(No symbol) [0x00007FF7CD2AFFEF]\n",
      "\t(No symbol) [0x00007FF7CD27BF86]\n",
      "\t(No symbol) [0x00007FF7CD2B01C0]\n",
      "\t(No symbol) [0x00007FF7CD2D0181]\n",
      "\t(No symbol) [0x00007FF7CD2AFD53]\n",
      "\t(No symbol) [0x00007FF7CD27A0E3]\n",
      "\t(No symbol) [0x00007FF7CD27B471]\n",
      "\tGetHandleVerifier [0x00007FF7CD76F30D+3366989]\n",
      "\tGetHandleVerifier [0x00007FF7CD7812F0+3440688]\n",
      "\tGetHandleVerifier [0x00007FF7CD7778FD+3401277]\n",
      "\tGetHandleVerifier [0x00007FF7CD50AAAB+858091]\n",
      "\t(No symbol) [0x00007FF7CD3AE74F]\n",
      "\t(No symbol) [0x00007FF7CD3AA304]\n",
      "\t(No symbol) [0x00007FF7CD3AA49D]\n",
      "\t(No symbol) [0x00007FF7CD398B69]\n",
      "\tBaseThreadInitThunk [0x00007FFA33C4E8D7+23]\n",
      "\tRtlUserThreadStart [0x00007FFA34FBFBCC+44]\n",
      "\n"
     ]
    },
    {
     "name": "stderr",
     "output_type": "stream",
     "text": [
      " 81%|████████  | 302/374 [28:07<05:57,  4.96s/it]"
     ]
    },
    {
     "name": "stdout",
     "output_type": "stream",
     "text": [
      "Message: no such element: Unable to locate element: {\"method\":\"xpath\",\"selector\":\"//div[@class=\"slt-seasons-dropdown\"]\"}\n",
      "  (Session info: chrome=132.0.6834.197); For documentation on this error, please visit: https://www.selenium.dev/documentation/webdriver/troubleshooting/errors#no-such-element-exception\n",
      "Stacktrace:\n",
      "\tGetHandleVerifier [0x00007FF7CD4402F5+28725]\n",
      "\t(No symbol) [0x00007FF7CD3A2AE0]\n",
      "\t(No symbol) [0x00007FF7CD23510A]\n",
      "\t(No symbol) [0x00007FF7CD2893D2]\n",
      "\t(No symbol) [0x00007FF7CD2895FC]\n",
      "\t(No symbol) [0x00007FF7CD27C0BC]\n",
      "\t(No symbol) [0x00007FF7CD2AFFEF]\n",
      "\t(No symbol) [0x00007FF7CD27BF86]\n",
      "\t(No symbol) [0x00007FF7CD2B01C0]\n",
      "\t(No symbol) [0x00007FF7CD2D0181]\n",
      "\t(No symbol) [0x00007FF7CD2AFD53]\n",
      "\t(No symbol) [0x00007FF7CD27A0E3]\n",
      "\t(No symbol) [0x00007FF7CD27B471]\n",
      "\tGetHandleVerifier [0x00007FF7CD76F30D+3366989]\n",
      "\tGetHandleVerifier [0x00007FF7CD7812F0+3440688]\n",
      "\tGetHandleVerifier [0x00007FF7CD7778FD+3401277]\n",
      "\tGetHandleVerifier [0x00007FF7CD50AAAB+858091]\n",
      "\t(No symbol) [0x00007FF7CD3AE74F]\n",
      "\t(No symbol) [0x00007FF7CD3AA304]\n",
      "\t(No symbol) [0x00007FF7CD3AA49D]\n",
      "\t(No symbol) [0x00007FF7CD398B69]\n",
      "\tBaseThreadInitThunk [0x00007FFA33C4E8D7+23]\n",
      "\tRtlUserThreadStart [0x00007FFA34FBFBCC+44]\n",
      "\n"
     ]
    },
    {
     "name": "stderr",
     "output_type": "stream",
     "text": [
      " 85%|████████▍ | 317/374 [29:27<04:48,  5.06s/it]"
     ]
    },
    {
     "name": "stdout",
     "output_type": "stream",
     "text": [
      "Message: no such element: Unable to locate element: {\"method\":\"xpath\",\"selector\":\"//div[@class=\"slt-seasons-dropdown\"]\"}\n",
      "  (Session info: chrome=132.0.6834.197); For documentation on this error, please visit: https://www.selenium.dev/documentation/webdriver/troubleshooting/errors#no-such-element-exception\n",
      "Stacktrace:\n",
      "\tGetHandleVerifier [0x00007FF7CD4402F5+28725]\n",
      "\t(No symbol) [0x00007FF7CD3A2AE0]\n",
      "\t(No symbol) [0x00007FF7CD23510A]\n",
      "\t(No symbol) [0x00007FF7CD2893D2]\n",
      "\t(No symbol) [0x00007FF7CD2895FC]\n",
      "\t(No symbol) [0x00007FF7CD27C0BC]\n",
      "\t(No symbol) [0x00007FF7CD2AFFEF]\n",
      "\t(No symbol) [0x00007FF7CD27BF86]\n",
      "\t(No symbol) [0x00007FF7CD2B01C0]\n",
      "\t(No symbol) [0x00007FF7CD2D0181]\n",
      "\t(No symbol) [0x00007FF7CD2AFD53]\n",
      "\t(No symbol) [0x00007FF7CD27A0E3]\n",
      "\t(No symbol) [0x00007FF7CD27B471]\n",
      "\tGetHandleVerifier [0x00007FF7CD76F30D+3366989]\n",
      "\tGetHandleVerifier [0x00007FF7CD7812F0+3440688]\n",
      "\tGetHandleVerifier [0x00007FF7CD7778FD+3401277]\n",
      "\tGetHandleVerifier [0x00007FF7CD50AAAB+858091]\n",
      "\t(No symbol) [0x00007FF7CD3AE74F]\n",
      "\t(No symbol) [0x00007FF7CD3AA304]\n",
      "\t(No symbol) [0x00007FF7CD3AA49D]\n",
      "\t(No symbol) [0x00007FF7CD398B69]\n",
      "\tBaseThreadInitThunk [0x00007FFA33C4E8D7+23]\n",
      "\tRtlUserThreadStart [0x00007FFA34FBFBCC+44]\n",
      "\n"
     ]
    },
    {
     "name": "stderr",
     "output_type": "stream",
     "text": [
      " 86%|████████▌ | 321/374 [30:14<09:15, 10.49s/it]"
     ]
    },
    {
     "name": "stdout",
     "output_type": "stream",
     "text": [
      "Message: no such element: Unable to locate element: {\"method\":\"xpath\",\"selector\":\"//div[@class=\"slt-seasons-dropdown\"]\"}\n",
      "  (Session info: chrome=132.0.6834.197); For documentation on this error, please visit: https://www.selenium.dev/documentation/webdriver/troubleshooting/errors#no-such-element-exception\n",
      "Stacktrace:\n",
      "\tGetHandleVerifier [0x00007FF7CD4402F5+28725]\n",
      "\t(No symbol) [0x00007FF7CD3A2AE0]\n",
      "\t(No symbol) [0x00007FF7CD23510A]\n",
      "\t(No symbol) [0x00007FF7CD2893D2]\n",
      "\t(No symbol) [0x00007FF7CD2895FC]\n",
      "\t(No symbol) [0x00007FF7CD27C0BC]\n",
      "\t(No symbol) [0x00007FF7CD2AFFEF]\n",
      "\t(No symbol) [0x00007FF7CD27BF86]\n",
      "\t(No symbol) [0x00007FF7CD2B01C0]\n",
      "\t(No symbol) [0x00007FF7CD2D0181]\n",
      "\t(No symbol) [0x00007FF7CD2AFD53]\n",
      "\t(No symbol) [0x00007FF7CD27A0E3]\n",
      "\t(No symbol) [0x00007FF7CD27B471]\n",
      "\tGetHandleVerifier [0x00007FF7CD76F30D+3366989]\n",
      "\tGetHandleVerifier [0x00007FF7CD7812F0+3440688]\n",
      "\tGetHandleVerifier [0x00007FF7CD7778FD+3401277]\n",
      "\tGetHandleVerifier [0x00007FF7CD50AAAB+858091]\n",
      "\t(No symbol) [0x00007FF7CD3AE74F]\n",
      "\t(No symbol) [0x00007FF7CD3AA304]\n",
      "\t(No symbol) [0x00007FF7CD3AA49D]\n",
      "\t(No symbol) [0x00007FF7CD398B69]\n",
      "\tBaseThreadInitThunk [0x00007FFA33C4E8D7+23]\n",
      "\tRtlUserThreadStart [0x00007FFA34FBFBCC+44]\n",
      "\n"
     ]
    },
    {
     "name": "stderr",
     "output_type": "stream",
     "text": [
      " 87%|████████▋ | 325/374 [30:34<05:05,  6.24s/it]"
     ]
    },
    {
     "name": "stdout",
     "output_type": "stream",
     "text": [
      "Message: no such element: Unable to locate element: {\"method\":\"xpath\",\"selector\":\"//div[@class=\"slt-seasons-dropdown\"]\"}\n",
      "  (Session info: chrome=132.0.6834.197); For documentation on this error, please visit: https://www.selenium.dev/documentation/webdriver/troubleshooting/errors#no-such-element-exception\n",
      "Stacktrace:\n",
      "\tGetHandleVerifier [0x00007FF7CD4402F5+28725]\n",
      "\t(No symbol) [0x00007FF7CD3A2AE0]\n",
      "\t(No symbol) [0x00007FF7CD23510A]\n",
      "\t(No symbol) [0x00007FF7CD2893D2]\n",
      "\t(No symbol) [0x00007FF7CD2895FC]\n",
      "\t(No symbol) [0x00007FF7CD27C0BC]\n",
      "\t(No symbol) [0x00007FF7CD2AFFEF]\n",
      "\t(No symbol) [0x00007FF7CD27BF86]\n",
      "\t(No symbol) [0x00007FF7CD2B01C0]\n",
      "\t(No symbol) [0x00007FF7CD2D0181]\n",
      "\t(No symbol) [0x00007FF7CD2AFD53]\n",
      "\t(No symbol) [0x00007FF7CD27A0E3]\n",
      "\t(No symbol) [0x00007FF7CD27B471]\n",
      "\tGetHandleVerifier [0x00007FF7CD76F30D+3366989]\n",
      "\tGetHandleVerifier [0x00007FF7CD7812F0+3440688]\n",
      "\tGetHandleVerifier [0x00007FF7CD7778FD+3401277]\n",
      "\tGetHandleVerifier [0x00007FF7CD50AAAB+858091]\n",
      "\t(No symbol) [0x00007FF7CD3AE74F]\n",
      "\t(No symbol) [0x00007FF7CD3AA304]\n",
      "\t(No symbol) [0x00007FF7CD3AA49D]\n",
      "\t(No symbol) [0x00007FF7CD398B69]\n",
      "\tBaseThreadInitThunk [0x00007FFA33C4E8D7+23]\n",
      "\tRtlUserThreadStart [0x00007FFA34FBFBCC+44]\n",
      "\n"
     ]
    },
    {
     "name": "stderr",
     "output_type": "stream",
     "text": [
      "100%|██████████| 374/374 [34:49<00:00,  5.59s/it]\n"
     ]
    }
   ],
   "source": [
    "driver = webdriver.Chrome()\n",
    "\n",
    "for movie_link in tqdm(movie_links[start_index + 1:]):\n",
    "  driver.get(movie_link)\n",
    "\n",
    "  movie = {\n",
    "    'title': '',\n",
    "    'src': movie_link,\n",
    "    'releasedAt': '',\n",
    "    'description': '',\n",
    "    'poster': '',\n",
    "    'duration': '',\n",
    "    'seasons': -1,\n",
    "    'imdbRating': '',\n",
    "    'genres': [],\n",
    "    'countries': [],\n",
    "    'productions': [],\n",
    "    'casts': [],\n",
    "    'episodes': []\n",
    "  }\n",
    "\n",
    "  poster_section = WebDriverWait(driver, 10).until(\n",
    "    EC.presence_of_element_located((By.XPATH, '//div[@class=\"film-poster mb-2\"]'))\n",
    "  )\n",
    "  movie['poster'] = poster_section.find_element(By.TAG_NAME, 'img').get_attribute('src')\n",
    "  movie_details_section = WebDriverWait(driver, 10).until(\n",
    "    EC.presence_of_element_located((By.XPATH, '//div[@class=\"dp-i-c-right\"]'))\n",
    "  )\n",
    "  movie['title'] = movie_details_section.find_element(By.TAG_NAME, 'h2').find_element(By.TAG_NAME, 'a').text.strip()\n",
    "  movie['imdbRating'] = movie_details_section.find_element(By.XPATH, '//span[@class=\"item mr-2\"]').find_element(By.TAG_NAME, 'button').text.replace('IMDB:', '').strip()\n",
    "  movie['description'] = movie_details_section.find_element(By.XPATH, '//div[@class=\"description\"]').text.strip()\n",
    "\n",
    "  row_section = movie_details_section.find_element(By.XPATH, '//div[@class=\"row\"]').find_elements(By.XPATH, '//div[@class=\"row-line\"]')\n",
    "  movie['releasedAt'] = row_section[0].text.replace('Released:', '').strip()\n",
    "  movie['genres'] = [a_tag.text.strip() for a_tag in row_section[1].find_elements(By.TAG_NAME, 'a')]\n",
    "  movie['casts'] = [a_tag.text.strip() for a_tag in row_section[2].find_elements(By.TAG_NAME, 'a')]\n",
    "  movie['duration'] = row_section[3].text.replace('Duration:', '').strip()\n",
    "  movie['countries'] = [a_tag.text.strip() for a_tag in row_section[4].find_elements(By.TAG_NAME, 'a')]\n",
    "  movie['productions'] = [a_tag.text.strip() for a_tag in row_section[5].find_elements(By.TAG_NAME, 'a')]\n",
    "\n",
    "  episode_section = WebDriverWait(driver, 10).until(\n",
    "    EC.presence_of_element_located((By.XPATH, '//div[@id=\"content-episodes\"]'))\n",
    "  )\n",
    "  try:\n",
    "    episode_menu = episode_section.find_element(By.XPATH, '//div[@class=\"slt-seasons-dropdown\"]')\n",
    "    episode_menu_children = episode_menu.find_elements(By.XPATH, './*[1]')\n",
    "    driver.execute_script(\"arguments[0].click();\", episode_menu_children[0])\n",
    "    time.sleep(2)\n",
    "  except Exception as e:\n",
    "    print(e)\n",
    "    for index, link in enumerate(movie_links):\n",
    "      if link == movie_link:\n",
    "        start_index = index\n",
    "        break\n",
    "    driver.quit()\n",
    "    driver = webdriver.Chrome()\n",
    "    continue\n",
    " \n",
    "  seasons = WebDriverWait(driver, 10).until(\n",
    "    EC.presence_of_element_located((By.XPATH, '//*[@id=\"content-episodes\"]/div/div[2]/div[1]/div[1]/div/div'))\n",
    "  ).find_elements(By.TAG_NAME, 'a')\n",
    "\n",
    "  for season in seasons:\n",
    "    driver.execute_script(\"arguments[0].click();\", season)\n",
    "    time.sleep(1)\n",
    "\n",
    "  full_rendered_episodes = WebDriverWait(driver, 10).until(\n",
    "    EC.presence_of_element_located((By.XPATH, '//*[@id=\"content-episodes\"]/div/div[2]/div[1]/div[3]/div'))\n",
    "  ).find_elements(By.XPATH, './div')\n",
    "\n",
    "  movie['seasons'] = len(full_rendered_episodes)\n",
    "\n",
    "  for season_number, div in enumerate(full_rendered_episodes):\n",
    "    episodes_per_season = div.find_elements(By.TAG_NAME, 'a')\n",
    "    for episode_number, episode in enumerate(episodes_per_season):\n",
    "      episode_details = {\n",
    "        'season': season_number + 1,\n",
    "        'number': episode_number + 1,\n",
    "        'title': '',\n",
    "        'link': ''\n",
    "      }\n",
    "      episode_details['title'] = episode.get_attribute('title').split(':')[1].strip()\n",
    "      movie['episodes'].append(episode_details)\n",
    "\n",
    "  with open('tv_show_final_results.jsonl', 'a', encoding='utf-8') as f:\n",
    "    f.write(json.dumps(movie, ensure_ascii=False) + '\\n')"
   ]
  }
 ],
 "metadata": {
  "kernelspec": {
   "display_name": "Python 3",
   "language": "python",
   "name": "python3"
  },
  "language_info": {
   "codemirror_mode": {
    "name": "ipython",
    "version": 3
   },
   "file_extension": ".py",
   "mimetype": "text/x-python",
   "name": "python",
   "nbconvert_exporter": "python",
   "pygments_lexer": "ipython3",
   "version": "3.13.1"
  }
 },
 "nbformat": 4,
 "nbformat_minor": 2
}
