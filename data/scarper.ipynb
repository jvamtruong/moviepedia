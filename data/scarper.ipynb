{
 "cells": [
  {
   "cell_type": "code",
   "execution_count": 38,
   "metadata": {},
   "outputs": [
    {
     "name": "stdout",
     "output_type": "stream",
     "text": [
      "14924\n"
     ]
    }
   ],
   "source": [
    "import json\n",
    "import time\n",
    "from tqdm import tqdm\n",
    "from selenium import webdriver\n",
    "from selenium.webdriver.support.ui import WebDriverWait\n",
    "from selenium.webdriver.support import expected_conditions as EC\n",
    "from selenium.webdriver.common.by import By\n",
    "\n",
    "movie_links = []\n",
    "\n",
    "with open('tv_show_links.jsonl', 'r', encoding='utf-8') as f:\n",
    "  for line in f:\n",
    "    movie_links_per_page = json.loads(line)\n",
    "    for link in movie_links_per_page:\n",
    "      movie_links.append(link)\n",
    "\n",
    "print(len(movie_links))"
   ]
  },
  {
   "cell_type": "code",
   "execution_count": null,
   "metadata": {},
   "outputs": [
    {
     "name": "stderr",
     "output_type": "stream",
     "text": [
      "  0%|          | 24/14924 [01:49<19:31:08,  4.72s/it]"
     ]
    }
   ],
   "source": [
    "driver = webdriver.Chrome()\n",
    "\n",
    "for movie_link in tqdm(movie_links):\n",
    "  driver.get(movie_link)\n",
    "\n",
    "  movie = {\n",
    "    'title': '',\n",
    "    'src': movie_link,\n",
    "    'releasedAt': '',\n",
    "    'description': '',\n",
    "    'poster': '',\n",
    "    'duration': '',\n",
    "    'seasons': -1,\n",
    "    'imdbRating': '',\n",
    "    'genres': [],\n",
    "    'countries': [],\n",
    "    'productions': [],\n",
    "    'casts': [],\n",
    "    'episodes': []\n",
    "  }\n",
    "\n",
    "  poster_section = WebDriverWait(driver, 10).until(\n",
    "    EC.presence_of_element_located((By.XPATH, '//div[@class=\"film-poster mb-2\"]'))\n",
    "  )\n",
    "  movie['poster'] = poster_section.find_element(By.TAG_NAME, 'img').get_attribute('src')\n",
    "  movie_details_section = WebDriverWait(driver, 10).until(\n",
    "    EC.presence_of_element_located((By.XPATH, '//div[@class=\"dp-i-c-right\"]'))\n",
    "  )\n",
    "  movie['title'] = movie_details_section.find_element(By.TAG_NAME, 'h2').find_element(By.TAG_NAME, 'a').text.strip()\n",
    "  movie['imdbRating'] = movie_details_section.find_element(By.XPATH, '//span[@class=\"item mr-2\"]').find_element(By.TAG_NAME, 'button').text.replace('IMDB:', '').strip()\n",
    "  movie['description'] = movie_details_section.find_element(By.XPATH, '//div[@class=\"description\"]').text.strip()\n",
    "\n",
    "  row_section = movie_details_section.find_element(By.XPATH, '//div[@class=\"row\"]').find_elements(By.XPATH, '//div[@class=\"row-line\"]')\n",
    "  movie['releasedAt'] = row_section[0].text.replace('Released:', '').strip()\n",
    "  movie['genres'] = [a_tag.text.strip() for a_tag in row_section[1].find_elements(By.TAG_NAME, 'a')]\n",
    "  movie['casts'] = [a_tag.text.strip() for a_tag in row_section[2].find_elements(By.TAG_NAME, 'a')]\n",
    "  movie['duration'] = row_section[3].text.replace('Duration:', '').strip()\n",
    "  movie['countries'] = [a_tag.text.strip() for a_tag in row_section[4].find_elements(By.TAG_NAME, 'a')]\n",
    "  movie['productions'] = [a_tag.text.strip() for a_tag in row_section[5].find_elements(By.TAG_NAME, 'a')]\n",
    "\n",
    "  episode_section = WebDriverWait(driver, 10).until(\n",
    "    EC.presence_of_element_located((By.XPATH, '//div[@id=\"content-episodes\"]'))\n",
    "  )\n",
    "\n",
    "  episode_menu = episode_section.find_element(By.XPATH, '//div[@class=\"slt-seasons-dropdown\"]')\n",
    "  episode_menu_childern = episode_menu.find_elements(By.XPATH, './*[1]')\n",
    "  driver.execute_script(\"arguments[0].click();\", episode_menu_childern[0])\n",
    "  time.sleep(2)\n",
    "\n",
    "  # seasons = WebDriverWait(driver, 10).until(\n",
    "  #   EC.presence_of_element_located((By.XPATH, '//div[@class=\"dropdown-menu dropdown-menu-new\"]'))\n",
    "  # ).find_elements(By.TAG_NAME, 'a')\n",
    "\n",
    "  seasons = WebDriverWait(driver, 10).until(\n",
    "    EC.presence_of_element_located((By.XPATH, '//*[@id=\"content-episodes\"]/div/div[2]/div[1]/div[1]/div/div'))\n",
    "  ).find_elements(By.TAG_NAME, 'a')\n",
    "\n",
    "  for season in seasons:\n",
    "    driver.execute_script(\"arguments[0].click();\", season)\n",
    "    time.sleep(1)\n",
    "\n",
    "  full_rendered_episodes = WebDriverWait(driver, 10).until(\n",
    "    EC.presence_of_element_located((By.XPATH, '//*[@id=\"content-episodes\"]/div/div[2]/div[1]/div[3]/div'))\n",
    "  ).find_elements(By.XPATH, './div')\n",
    "\n",
    "  movie['seasons'] = len(full_rendered_episodes)\n",
    "\n",
    "  for season_number, div in enumerate(full_rendered_episodes):\n",
    "    episodes_per_season = div.find_elements(By.TAG_NAME, 'a')\n",
    "    for episode_number, episode in enumerate(episodes_per_season):\n",
    "      episode_details = {\n",
    "        'season': season_number + 1,\n",
    "        'number': episode_number + 1,\n",
    "        'title': '',\n",
    "        'link': ''\n",
    "      }\n",
    "      episode_details['title'] = episode.get_attribute('title').split(':')[1].strip()\n",
    "      movie['episodes'].append(episode_details)\n",
    "\n",
    "  with open('tv_show_final_results.jsonl', 'a', encoding='utf-8') as f:\n",
    "    f.write(json.dumps(movie, ensure_ascii=False) + '\\n')"
   ]
  },
  {
   "cell_type": "code",
   "execution_count": null,
   "metadata": {},
   "outputs": [],
   "source": []
  }
 ],
 "metadata": {
  "kernelspec": {
   "display_name": "Python 3",
   "language": "python",
   "name": "python3"
  },
  "language_info": {
   "codemirror_mode": {
    "name": "ipython",
    "version": 3
   },
   "file_extension": ".py",
   "mimetype": "text/x-python",
   "name": "python",
   "nbconvert_exporter": "python",
   "pygments_lexer": "ipython3",
   "version": "3.13.1"
  }
 },
 "nbformat": 4,
 "nbformat_minor": 2
}
